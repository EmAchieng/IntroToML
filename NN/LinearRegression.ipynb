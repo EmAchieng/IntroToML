{
 "cells": [
  {
   "cell_type": "markdown",
   "metadata": {},
   "source": [
    "# Linear Regression Example\n",
    "\n",
    "This is an example of a simple linear regression problem: using a gradient descent optimisation algorithm to fit for the gradient and intercept of the function $y=mx+c$.\n",
    "\n",
    "This example allows us to explore a few of the hyperparameters and how they affect the convergence of the optimisation algorithm.  The parameters we can tweak are the learning_rate and training_epochs.  \n",
    "* If the learning_rate is too large then there can be issues with convergence; the gradient descent algorithm can diverge.\n",
    "* If the learning_rate is suitable, but training_epochs is set to too small a number, then the optimisation will not be able to converge.  Similarly if training_epochs is set to too large a number then the algorithm will have converged long before the specified number of epochs has been reached. This second issue is usually addressed by inserting convergence criteria in an optimisation loop.\n",
    "For a suitable learning_rate, the number of steps required to reach convergence will depend on how far away from the true model parameters the starting parameters (our intial guess) are.  You can explore this issue by changing the gradient and intercept, noting that the script generates initial values that are bounded by $[0, 1]$.\n",
    "\n",
    "We start the training in the nominal version with the following parameters:\n",
    "* learning_rate = 0.005\n",
    "* training_epochs = 100\n",
    "* gradient = 1.0\n",
    "* intercept = 0.0\n",
    "* noise     = 0.1"
   ]
  },
  {
   "cell_type": "code",
   "execution_count": 32,
   "metadata": {},
   "outputs": [
    {
     "name": "stdout",
     "output_type": "stream",
     "text": [
      "--------------------------------------------\n",
      "Number of examples to generate =  100\n",
      "Learning rate            alpha =  0.005\n",
      "Number of training epochs      =  100\n",
      "--------------------------------------------\n"
     ]
    }
   ],
   "source": [
    "from __future__ import absolute_import\n",
    "from __future__ import division\n",
    "from __future__ import print_function\n",
    "\n",
    "import numpy as np\n",
    "import tensorflow as tf\n",
    "import matplotlib.pyplot as plt\n",
    "\n",
    "tf.compat.v1.disable_eager_execution()\n",
    "\n",
    "# Network training parameters\n",
    "learning_rate    = 0.005\n",
    "training_epochs  = 100\n",
    "min_x = 0\n",
    "max_x = 1\n",
    "Ngen  = 100\n",
    "gradient  = 1.0\n",
    "intercept = 0.0\n",
    "noise     = 0.1  # data are inherently noisy, so we generate noise\n",
    "\n",
    "print(\"--------------------------------------------\")\n",
    "print(\"Number of examples to generate = \", Ngen)\n",
    "print(\"Learning rate            alpha = \", learning_rate)\n",
    "print(\"Number of training epochs      = \", training_epochs)\n",
    "print(\"--------------------------------------------\")"
   ]
  },
  {
   "cell_type": "markdown",
   "metadata": {},
   "source": [
    "TensorFlow models can be broken into two parts, the first part allows the user to construct a graph.  This is the logical structure of the algorithm that will be excecuted to learn the model parameters. The second part is excecution of the graph. This is an iterative process and as will be seen below, the parameter update is essentially hidden behind the evaluation of hte variable train_step.  Here we define the graph that needs to be excecuted."
   ]
  },
  {
   "cell_type": "code",
   "execution_count": 33,
   "metadata": {},
   "outputs": [],
   "source": [
    "# tf Graph input:\n",
    "#  x: is the tensor for the input data (the placeholder entry None is used for that;\n",
    "#     and the number of features input (n_input = 1).\n",
    "#\n",
    "#\n",
    "#  y: is the tensor input data computed from the generated data x values\n",
    "#\n",
    "#  yhat: is the tensor for the output value of the function that is being approximated by\n",
    "#     the the model, calculated from yhat = m*x + c\n",
    "#\n",
    "x = tf.compat.v1.placeholder(tf.float32, [None, 1], name=\"x\")\n",
    "y = tf.compat.v1.placeholder(tf.float32, [None, 1], name=\"y\")\n",
    "\n",
    "# parameters of the model are m (gradient) and c (constant offset)\n",
    "#   - pick random starting values for fit convergence\n",
    "c = tf.Variable(tf.random.uniform([1]), name=\"c\")\n",
    "m = tf.Variable(tf.random.uniform([1]), name=\"m\")\n",
    "yhat = m * x + c\n",
    "\n",
    "# Use the L2 norm loss function for minimsation. This is equivalent to minimising a chi2 \n",
    "# all of the data points have equal uncertainty, and hence the optimal solution for the\n",
    "# parameters is independent of the uncertainty.\n",
    "loss = tf.reduce_sum((y-yhat) * (y-yhat))\n",
    "\n",
    "# use a gradient descent optimiser to miniise the loss; here we specify the learning_rate step\n",
    "# size for the minimisation\n",
    "train_step = tf.compat.v1.train.GradientDescentOptimizer(learning_rate).minimize(loss)"
   ]
  },
  {
   "cell_type": "markdown",
   "metadata": {},
   "source": [
    "With the graph set up above, we now need to (i) prepare the training data, and (ii) start a TensorFlow session, and use this to initialise the variables m and c so that we can start the optimisation process.  \n",
    "\n",
    "The data sample is simply a uniformly generated set of data in the range $[min_x, max_x]=[0, 1]$ for x, and y is evaluated as y=mx+c, with a random noise term added to simulate noise that would be inherent in any data set.\n",
    "\n",
    "There are several ways to evaluate tensors in TensorFlow.  Here a session is used to evaluate tf objects. You may wish to explore the website for the other alternatives."
   ]
  },
  {
   "cell_type": "code",
   "execution_count": 34,
   "metadata": {},
   "outputs": [],
   "source": [
    "# prepare data - data_x and data_y are np arrays that will get fed into the optimisation\n",
    "# set the seed for random number generation to ensure we always get the same data\n",
    "np.random.seed(0)\n",
    "data_x = (max_x-min_x)*np.random.random([Ngen, 1])+min_x\n",
    "data_y = np.zeros([Ngen,1])\n",
    "for i in range(Ngen):\n",
    "    data_y[i] = gradient*data_x[i]+intercept + noise*np.random.randn()\n",
    "\n",
    "\n",
    "# prepare the session for evaluation and initialise the variables.\n",
    "sess = tf.compat.v1.Session()\n",
    "init = tf.compat.v1.global_variables_initializer()\n",
    "sess.run(init)"
   ]
  },
  {
   "cell_type": "markdown",
   "metadata": {},
   "source": [
    "The rest of this notebook consists of graph evaluation, and output of the results.  The loop over training_epochs results in train_set being evaluated the specified number of times.  As the train_set variable is the gradient descent optimiser, each evaluation results in one iteration of the optimisation being performed.  For each iteration the whole data sample is fed into the calculation. This is not optimal for large data sets and you may wish to explore large samples and extend the notebook to do batch learning (see the accompanying notes on neural networks for details of batch learning).\n",
    "\n",
    "The loss is evaluated at each training step, again using the full amount of training data, so that we can plot the evolution of loss against training epoch.  \n",
    "\n",
    "The rest of the code prints out the values of m and c obtained, displays how the fitted model agrees with the data, and the evolution of loss vs epoch."
   ]
  },
  {
   "cell_type": "code",
   "execution_count": 35,
   "metadata": {},
   "outputs": [
    {
     "name": "stdout",
     "output_type": "stream",
     "text": [
      "Epoch   m         c\n",
      "0 [0.46559054] [0.11236668] 5.8555884\n",
      "1 [0.58491117] [0.27189893] 2.6996167\n",
      "2 [0.5922161] [0.21548489] 2.3333588\n",
      "3 [0.6239531] [0.21203117] 2.1512408\n",
      "4 [0.6475908] [0.19702609] 2.0005724\n",
      "5 [0.6710743] [0.18585034] 1.8698826\n",
      "6 [0.6926403] [0.1747475] 1.7561572\n",
      "7 [0.71284246] [0.1645512] 1.6571727\n",
      "8 [0.7316703] [0.15499975] 1.5710176\n",
      "9 [0.74924046] [0.14609806] 1.4960288\n",
      "10 [0.7656313] [0.13779101] 1.4307595\n",
      "11 [0.7809234] [0.13004151] 1.3739495\n",
      "12 [0.7951901] [0.12281148] 1.3245026\n",
      "13 [0.8085002] [0.11606629] 1.2814645\n",
      "14 [0.8209178] [0.10977338] 1.2440041\n",
      "15 [0.8325028] [0.1039024] 1.2113991\n",
      "16 [0.84331095] [0.09842509] 1.1830202\n",
      "17 [0.85339445] [0.09331505] 1.1583191\n",
      "18 [0.8628018] [0.08854763] 1.1368197\n",
      "19 [0.87157834] [0.0840999] 1.1181067\n",
      "20 [0.8797664] [0.07995041] 1.1018192\n",
      "21 [0.88740546] [0.07607915] 1.0876427\n",
      "22 [0.8945323] [0.07246745] 1.0753034\n",
      "23 [0.9011813] [0.06909791] 1.0645635\n",
      "24 [0.9073844] [0.06595432] 1.0552154\n",
      "25 [0.9131716] [0.06302152] 1.0470791\n",
      "26 [0.91857076] [0.06028536] 1.0399972\n",
      "27 [0.9236079] [0.05773267] 1.0338333\n",
      "28 [0.9283073] [0.05535117] 1.0284681\n",
      "29 [0.9326916] [0.05312929] 1.0237985\n",
      "30 [0.9367819] [0.05105644] 1.019734\n",
      "31 [0.94059795] [0.04912257] 1.0161963\n",
      "32 [0.94415814] [0.04731836] 1.0131171\n",
      "33 [0.9474796] [0.04563513] 1.010437\n",
      "34 [0.95057833] [0.04406477] 1.0081043\n",
      "35 [0.9534693] [0.0425997] 1.006074\n",
      "36 [0.9561664] [0.04123288] 1.0043067\n",
      "37 [0.95868266] [0.0399577] 1.0027685\n",
      "38 [0.9610302] [0.03876802] 1.0014298\n",
      "39 [0.96322036] [0.03765814] 1.0002644\n",
      "40 [0.9652636] [0.03662262] 0.99925005\n",
      "41 [0.9671699] [0.03565658] 0.9983672\n",
      "42 [0.96894836] [0.03475532] 0.9975989\n",
      "43 [0.9706076] [0.03391446] 0.99693006\n",
      "44 [0.9721556] [0.03312999] 0.996348\n",
      "45 [0.97359973] [0.03239812] 0.99584126\n",
      "46 [0.9749471] [0.03171533] 0.99540025\n",
      "47 [0.97620404] [0.03107829] 0.99501646\n",
      "48 [0.97737676] [0.03048403] 0.9946823\n",
      "49 [0.9784708] [0.02992957] 0.9943915\n",
      "50 [0.97949153] [0.0294123] 0.99413836\n",
      "51 [0.9804438] [0.02892972] 0.99391824\n",
      "52 [0.9813322] [0.0284795] 0.9937264\n",
      "53 [0.98216105] [0.02805946] 0.99355954\n",
      "54 [0.9829343] [0.02766758] 0.9934142\n",
      "55 [0.98365575] [0.02730199] 0.9932878\n",
      "56 [0.9843288] [0.02696091] 0.9931778\n",
      "57 [0.98495674] [0.02664268] 0.9930819\n",
      "58 [0.98554254] [0.0263458] 0.99299854\n",
      "59 [0.9860891] [0.02606884] 0.99292606\n",
      "60 [0.98659897] [0.02581041] 0.9928629\n",
      "61 [0.9870747] [0.02556936] 0.9928079\n",
      "62 [0.9875185] [0.02534444] 0.99276006\n",
      "63 [0.98793256] [0.02513462] 0.9927184\n",
      "64 [0.98831886] [0.02493885] 0.99268204\n",
      "65 [0.98867923] [0.02475622] 0.99265057\n",
      "66 [0.98901546] [0.02458584] 0.99262315\n",
      "67 [0.9893291] [0.02442685] 0.99259925\n",
      "68 [0.98962176] [0.02427856] 0.9925784\n",
      "69 [0.98989475] [0.0241402] 0.99256027\n",
      "70 [0.9901495] [0.02401114] 0.9925446\n",
      "71 [0.99038714] [0.0238907] 0.9925308\n",
      "72 [0.9906089] [0.02377835] 0.9925189\n",
      "73 [0.9908157] [0.02367352] 0.9925085\n",
      "74 [0.99100864] [0.02357571] 0.99249935\n",
      "75 [0.99118865] [0.02348449] 0.9924916\n",
      "76 [0.9913566] [0.0233994] 0.9924846\n",
      "77 [0.9915133] [0.02331997] 0.9924788\n",
      "78 [0.9916595] [0.0232459] 0.9924735\n",
      "79 [0.9917959] [0.02317677] 0.992469\n",
      "80 [0.99192315] [0.02311228] 0.99246514\n",
      "81 [0.9920418] [0.02305211] 0.99246174\n",
      "82 [0.9921526] [0.02299602] 0.99245876\n",
      "83 [0.99225587] [0.02294366] 0.99245614\n",
      "84 [0.99235225] [0.02289481] 0.9924539\n",
      "85 [0.9924422] [0.02284925] 0.99245197\n",
      "86 [0.99252605] [0.02280672] 0.99245024\n",
      "87 [0.9926044] [0.02276708] 0.9924486\n",
      "88 [0.9926774] [0.02273005] 0.9924474\n",
      "89 [0.9927455] [0.02269551] 0.9924463\n",
      "90 [0.99280906] [0.0226633] 0.99244535\n",
      "91 [0.99286836] [0.02263327] 0.99244446\n",
      "92 [0.9929237] [0.02260524] 0.9924437\n",
      "93 [0.9929753] [0.02257908] 0.9924431\n",
      "94 [0.99302346] [0.02255468] 0.9924425\n",
      "95 [0.9930684] [0.02253189] 0.99244195\n",
      "96 [0.9931103] [0.02251067] 0.9924416\n",
      "97 [0.9931494] [0.02249085] 0.99244124\n",
      "98 [0.9931859] [0.02247235] 0.99244094\n",
      "99 [0.9932199] [0.0224551] 0.99244064\n",
      "Optimisation process has finished.  The optimal values of parameters are:\n",
      "  m =  [0.9932199]  [input value =  1.0 ]\n",
      "  c =  [0.0224551]  [input value =  0.0 ]\n",
      "  loss function for the optimal parameters =  0.99244064\n"
     ]
    },
    {
     "data": {
      "image/png": "[encoded data removed]",
      "text/plain": [
       "<Figure size 432x288 with 1 Axes>"
      ]
     },
     "metadata": {
      "needs_background": "light"
     },
     "output_type": "display_data"
    },
    {
     "data": {
      "image/png": "[encoded data removed]",
      "text/plain": [
       "<Figure size 432x288 with 1 Axes>"
      ]
     },
     "metadata": {
      "needs_background": "light"
     },
     "output_type": "display_data"
    }
   ],
   "source": [
    "# epoch and chi2 are the training step and the chi2 sum (neglecting the error normalisation)\n",
    "# for the problem.  These will be logged to inspect the fit convergence obtained.\n",
    "epoch      = []\n",
    "loss_vals  = []\n",
    "print(\"Epoch   m         c\")\n",
    "for step in range(training_epochs):\n",
    "    # run the minimiser\n",
    "    sess.run(train_step, feed_dict={x: data_x, y: data_y})\n",
    "\n",
    "    # log the data and print output\n",
    "    epoch.append(step)\n",
    "    loss_vals.append(sess.run(loss, feed_dict={x: data_x, y: data_y}))\n",
    "    # uncomment this line for verbose printout\n",
    "    print(step, sess.run(m), sess.run(c), loss_vals[step])\n",
    "\n",
    "\n",
    "# print optimisation results\n",
    "print(\"Optimisation process has finished.  The optimal values of parameters are:\")\n",
    "print(\"  m = \", sess.run(m), \" [input value = \", gradient, \"]\" )\n",
    "print(\"  c = \", sess.run(c), \" [input value = \", intercept, \"]\" )\n",
    "print(\"  loss function for the optimal parameters = \", loss_vals[training_epochs-1])\n",
    "\n",
    "plt.plot(data_x, data_y, 'r.')\n",
    "plt.plot([min_x, max_x], [sess.run(c), sess.run(m)*max_x+sess.run(c)], 'b-')\n",
    "plt.ylabel('f(x)')\n",
    "plt.xlabel('x')\n",
    "plt.title('Linear Regression Example')\n",
    "plt.savefig(\"LR.pdf\")\n",
    "plt.show()\n",
    "\n",
    "plt.semilogy(epoch, loss_vals)\n",
    "plt.grid(True)\n",
    "plt.ylabel('L2 loss')\n",
    "plt.xlabel('Training epoch')\n",
    "plt.title('Linear Regression Example')\n",
    "plt.savefig(\"LR_loss.pdf\")\n",
    "plt.show()"
   ]
  },
  {
   "cell_type": "markdown",
   "metadata": {},
   "source": [
    "Some suggestions of things to explore with this example:\n",
    "* change the learning rate to some other value; both smaller (down to 0.0001) and larger (to 0.02) to see how the convergence properties change;\n",
    "* change the gradient used to see how the convergence properties change; try numbers in the range of 0.1 through 100;\n",
    "* try changing the value of the intercept m to see what happens to the optimisation;\n",
    "* try changing the value of the noise term to see what happens."
   ]
  },
  {
   "cell_type": "code",
   "execution_count": null,
   "metadata": {},
   "outputs": [],
   "source": []
  }
 ],
 "metadata": {
  "kernelspec": {
   "display_name": "Python 3",
   "language": "python",
   "name": "python3"
  },
  "language_info": {
   "codemirror_mode": {
    "name": "ipython",
    "version": 3
   },
   "file_extension": ".py",
   "mimetype": "text/x-python",
   "name": "python",
   "nbconvert_exporter": "python",
   "pygments_lexer": "ipython3",
   "version": "3.7.4"
  }
 },
 "nbformat": 4,
 "nbformat_minor": 4
}
